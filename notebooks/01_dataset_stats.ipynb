{
 "cells": [
  {
   "cell_type": "code",
   "execution_count": 1,
   "metadata": {},
   "outputs": [],
   "source": [
    "%load_ext autoreload\n",
    "%autoreload 2"
   ]
  },
  {
   "cell_type": "markdown",
   "metadata": {},
   "source": [
    "# Basic dataset stats"
   ]
  },
  {
   "cell_type": "code",
   "execution_count": 2,
   "metadata": {},
   "outputs": [
    {
     "name": "stdout",
     "output_type": "stream",
     "text": [
      "Project root: /Users/dasha/code/jcdl_2019\n"
     ]
    }
   ],
   "source": [
    "# standard path wrangling to be able to import project config and sources\n",
    "import os\n",
    "import sys\n",
    "root = os.path.dirname(os.getcwd())\n",
    "sys.path.append(root)\n",
    "print('Project root: {}'.format(root))"
   ]
  },
  {
   "cell_type": "markdown",
   "metadata": {},
   "source": [
    "Imports:"
   ]
  },
  {
   "cell_type": "code",
   "execution_count": 3,
   "metadata": {},
   "outputs": [],
   "source": [
    "# Built-in\n",
    "\n",
    "# Installed\n",
    "import pandas as pd\n",
    "import seaborn as sns\n",
    "\n",
    "# Custom\n",
    "from src.utils.config_loader import ConfigLoader\n",
    "from src.data.dataset_loader import DatasetLoader\n",
    "from src.visualization.basic_statistics import (\n",
    "    country_distribution, \n",
    "    year_of_publication_distribution, \n",
    "    repository_stats, \n",
    "    subject_distribution,\n",
    "    ref_uoa_distribution, \n",
    "    crossref_acceptance_date_stats, \n",
    "    issn_stats, \n",
    "    core_crossref_matching_accuracy\n",
    ")"
   ]
  },
  {
   "cell_type": "markdown",
   "metadata": {},
   "source": [
    "Load config:"
   ]
  },
  {
   "cell_type": "code",
   "execution_count": 4,
   "metadata": {},
   "outputs": [],
   "source": [
    "cfg = ConfigLoader.load_config()"
   ]
  },
  {
   "cell_type": "markdown",
   "metadata": {},
   "source": [
    "Other setup:"
   ]
  },
  {
   "cell_type": "code",
   "execution_count": 5,
   "metadata": {},
   "outputs": [],
   "source": [
    "sns.set()\n",
    "palette = sns.color_palette('muted')\n",
    "sns.set_palette(palette)\n",
    "\n",
    "pd.options.display.float_format = '{:.2f}'.format\n",
    "pd.set_option('max_colwidth', 800)"
   ]
  },
  {
   "cell_type": "markdown",
   "metadata": {},
   "source": [
    "Paths:"
   ]
  },
  {
   "cell_type": "code",
   "execution_count": 6,
   "metadata": {},
   "outputs": [],
   "source": [
    "dataset_path = os.path.join(root, 'data', 'dataset.csv')\n",
    "output_dir = os.path.join(root, cfg['paths']['output_dir'], 'figures/')"
   ]
  },
  {
   "cell_type": "markdown",
   "metadata": {},
   "source": [
    "## Data"
   ]
  },
  {
   "cell_type": "markdown",
   "metadata": {},
   "source": [
    "Load data:"
   ]
  },
  {
   "cell_type": "code",
   "execution_count": 7,
   "metadata": {},
   "outputs": [
    {
     "name": "stderr",
     "output_type": "stream",
     "text": [
      "808984it [01:21, 9955.86it/s] \n"
     ]
    }
   ],
   "source": [
    "df = DatasetLoader().load_dataset(dataset_path)"
   ]
  },
  {
   "cell_type": "code",
   "execution_count": 8,
   "metadata": {
    "scrolled": false
   },
   "outputs": [
    {
     "data": {
      "text/html": [
       "<div>\n",
       "<style scoped>\n",
       "    .dataframe tbody tr th:only-of-type {\n",
       "        vertical-align: middle;\n",
       "    }\n",
       "\n",
       "    .dataframe tbody tr th {\n",
       "        vertical-align: top;\n",
       "    }\n",
       "\n",
       "    .dataframe thead th {\n",
       "        text-align: right;\n",
       "    }\n",
       "</style>\n",
       "<table border=\"1\" class=\"dataframe\">\n",
       "  <thead>\n",
       "    <tr style=\"text-align: right;\">\n",
       "      <th></th>\n",
       "      <th>0</th>\n",
       "      <th>1</th>\n",
       "      <th>2</th>\n",
       "    </tr>\n",
       "  </thead>\n",
       "  <tbody>\n",
       "    <tr>\n",
       "      <th>core_country_code</th>\n",
       "      <td>[it]</td>\n",
       "      <td>[uk]</td>\n",
       "      <td>[ch]</td>\n",
       "    </tr>\n",
       "    <tr>\n",
       "      <th>core_deposited_date</th>\n",
       "      <td>[2016-09-09 00:00:00]</td>\n",
       "      <td>[2017-09-26 00:00:00]</td>\n",
       "      <td>[2018-02-07 00:00:00]</td>\n",
       "    </tr>\n",
       "    <tr>\n",
       "      <th>core_doi</th>\n",
       "      <td>[10.1001/jama.2014.9143]</td>\n",
       "      <td>[None]</td>\n",
       "      <td>[10.1001/jamaoto.2016.2981]</td>\n",
       "    </tr>\n",
       "    <tr>\n",
       "      <th>core_id_document</th>\n",
       "      <td>[80269649]</td>\n",
       "      <td>[96648431]</td>\n",
       "      <td>[154258392]</td>\n",
       "    </tr>\n",
       "    <tr>\n",
       "      <th>core_id_repository</th>\n",
       "      <td>[1078]</td>\n",
       "      <td>[6]</td>\n",
       "      <td>[345]</td>\n",
       "    </tr>\n",
       "    <tr>\n",
       "      <th>core_metadata_added</th>\n",
       "      <td>[2017-04-13 00:00:00]</td>\n",
       "      <td>[2017-10-19 00:00:00]</td>\n",
       "      <td>[2018-04-10 00:00:00]</td>\n",
       "    </tr>\n",
       "    <tr>\n",
       "      <th>core_oai</th>\n",
       "      <td>[oai:arpi.unipi.it:11568/803546]</td>\n",
       "      <td>[oai:arro.anglia.ac.uk:702274]</td>\n",
       "      <td>[oai:www.zora.uzh.ch:146921]</td>\n",
       "    </tr>\n",
       "    <tr>\n",
       "      <th>core_published_date</th>\n",
       "      <td>[2014]</td>\n",
       "      <td>[2017-08-08]</td>\n",
       "      <td>[2017]</td>\n",
       "    </tr>\n",
       "    <tr>\n",
       "      <th>core_repository_name</th>\n",
       "      <td>[Archivio della Ricerca - Università di Pisa]</td>\n",
       "      <td>[Anglia Ruskin Research Online]</td>\n",
       "      <td>[ZORA]</td>\n",
       "    </tr>\n",
       "    <tr>\n",
       "      <th>cr_accepted</th>\n",
       "      <td>NaT</td>\n",
       "      <td>NaT</td>\n",
       "      <td>NaT</td>\n",
       "    </tr>\n",
       "    <tr>\n",
       "      <th>cr_created</th>\n",
       "      <td>2014-08-12 00:00:00</td>\n",
       "      <td>2017-08-08 00:00:00</td>\n",
       "      <td>2016-10-13 00:00:00</td>\n",
       "    </tr>\n",
       "    <tr>\n",
       "      <th>cr_doi</th>\n",
       "      <td>10.1001/jama.2014.9143</td>\n",
       "      <td>10.1001/jama.2017.9478</td>\n",
       "      <td>10.1001/jamaoto.2016.2981</td>\n",
       "    </tr>\n",
       "    <tr>\n",
       "      <th>cr_issn</th>\n",
       "      <td>[0098-7484]</td>\n",
       "      <td>[0098-7484]</td>\n",
       "      <td>[2168-6181]</td>\n",
       "    </tr>\n",
       "    <tr>\n",
       "      <th>cr_published</th>\n",
       "      <td>2014-08-13 00:00:00</td>\n",
       "      <td>2017-08-08 00:00:00</td>\n",
       "      <td>2017-03-01 00:00:00</td>\n",
       "    </tr>\n",
       "    <tr>\n",
       "      <th>has_issn</th>\n",
       "      <td>True</td>\n",
       "      <td>True</td>\n",
       "      <td>True</td>\n",
       "    </tr>\n",
       "    <tr>\n",
       "      <th>is_gb</th>\n",
       "      <td>False</td>\n",
       "      <td>True</td>\n",
       "      <td>False</td>\n",
       "    </tr>\n",
       "    <tr>\n",
       "      <th>panels</th>\n",
       "      <td>[A]</td>\n",
       "      <td>[A]</td>\n",
       "      <td>[A]</td>\n",
       "    </tr>\n",
       "    <tr>\n",
       "      <th>subjects</th>\n",
       "      <td>[Medicine and Dentistry]</td>\n",
       "      <td>[Psychology]</td>\n",
       "      <td>[Medicine and Dentistry]</td>\n",
       "    </tr>\n",
       "  </tbody>\n",
       "</table>\n",
       "</div>"
      ],
      "text/plain": [
       "                                                                  0  \\\n",
       "core_country_code                                              [it]   \n",
       "core_deposited_date                           [2016-09-09 00:00:00]   \n",
       "core_doi                                   [10.1001/jama.2014.9143]   \n",
       "core_id_document                                         [80269649]   \n",
       "core_id_repository                                           [1078]   \n",
       "core_metadata_added                           [2017-04-13 00:00:00]   \n",
       "core_oai                           [oai:arpi.unipi.it:11568/803546]   \n",
       "core_published_date                                          [2014]   \n",
       "core_repository_name  [Archivio della Ricerca - Università di Pisa]   \n",
       "cr_accepted                                                     NaT   \n",
       "cr_created                                      2014-08-12 00:00:00   \n",
       "cr_doi                                       10.1001/jama.2014.9143   \n",
       "cr_issn                                                 [0098-7484]   \n",
       "cr_published                                    2014-08-13 00:00:00   \n",
       "has_issn                                                       True   \n",
       "is_gb                                                         False   \n",
       "panels                                                          [A]   \n",
       "subjects                                   [Medicine and Dentistry]   \n",
       "\n",
       "                                                    1  \\\n",
       "core_country_code                                [uk]   \n",
       "core_deposited_date             [2017-09-26 00:00:00]   \n",
       "core_doi                                       [None]   \n",
       "core_id_document                           [96648431]   \n",
       "core_id_repository                                [6]   \n",
       "core_metadata_added             [2017-10-19 00:00:00]   \n",
       "core_oai               [oai:arro.anglia.ac.uk:702274]   \n",
       "core_published_date                      [2017-08-08]   \n",
       "core_repository_name  [Anglia Ruskin Research Online]   \n",
       "cr_accepted                                       NaT   \n",
       "cr_created                        2017-08-08 00:00:00   \n",
       "cr_doi                         10.1001/jama.2017.9478   \n",
       "cr_issn                                   [0098-7484]   \n",
       "cr_published                      2017-08-08 00:00:00   \n",
       "has_issn                                         True   \n",
       "is_gb                                            True   \n",
       "panels                                            [A]   \n",
       "subjects                                 [Psychology]   \n",
       "\n",
       "                                                 2  \n",
       "core_country_code                             [ch]  \n",
       "core_deposited_date          [2018-02-07 00:00:00]  \n",
       "core_doi               [10.1001/jamaoto.2016.2981]  \n",
       "core_id_document                       [154258392]  \n",
       "core_id_repository                           [345]  \n",
       "core_metadata_added          [2018-04-10 00:00:00]  \n",
       "core_oai              [oai:www.zora.uzh.ch:146921]  \n",
       "core_published_date                         [2017]  \n",
       "core_repository_name                        [ZORA]  \n",
       "cr_accepted                                    NaT  \n",
       "cr_created                     2016-10-13 00:00:00  \n",
       "cr_doi                   10.1001/jamaoto.2016.2981  \n",
       "cr_issn                                [2168-6181]  \n",
       "cr_published                   2017-03-01 00:00:00  \n",
       "has_issn                                      True  \n",
       "is_gb                                        False  \n",
       "panels                                         [A]  \n",
       "subjects                  [Medicine and Dentistry]  "
      ]
     },
     "execution_count": 8,
     "metadata": {},
     "output_type": "execute_result"
    }
   ],
   "source": [
    "df.head(3).transpose()"
   ]
  },
  {
   "cell_type": "markdown",
   "metadata": {},
   "source": [
    "## Dataset size"
   ]
  },
  {
   "cell_type": "code",
   "execution_count": 9,
   "metadata": {},
   "outputs": [
    {
     "name": "stdout",
     "output_type": "stream",
     "text": [
      "Unique CORE IDs: 948044\n",
      "Unique Crossref DOIs: 808984\n",
      "Total links between Crossref and CORE: 985175\n"
     ]
    }
   ],
   "source": [
    "core_ids = set(x for row in df.core_id_document for x in row)\n",
    "crossref_dois = set(x for x in df.cr_doi)\n",
    "core_cr_links = [len(row) for row in df.core_id_document]\n",
    "print('Unique CORE IDs: {}'.format(len(core_ids)))\n",
    "print('Unique Crossref DOIs: {}'.format(len(crossref_dois)))\n",
    "print('Total links between Crossref and CORE: {}'.format(sum(core_cr_links)))"
   ]
  },
  {
   "cell_type": "markdown",
   "metadata": {},
   "source": [
    "## Country distribution"
   ]
  },
  {
   "cell_type": "code",
   "execution_count": 10,
   "metadata": {},
   "outputs": [
    {
     "name": "stderr",
     "output_type": "stream",
     "text": [
      "100%|██████████| 808984/808984 [00:00<00:00, 1169826.02it/s]\n"
     ]
    },
    {
     "data": {
      "image/png": "[encoded data removed]",
      "text/plain": [
       "<Figure size 432x180 with 1 Axes>"
      ]
     },
     "metadata": {},
     "output_type": "display_data"
    }
   ],
   "source": [
    "top_x = 20\n",
    "fig_path = os.path.join(output_dir, 'country_distrib_top{}.pdf'.format(top_x))\n",
    "country_distribution(df, top_x, fig_path)"
   ]
  },
  {
   "cell_type": "markdown",
   "metadata": {},
   "source": [
    "## Year of publication distribution"
   ]
  },
  {
   "cell_type": "code",
   "execution_count": 11,
   "metadata": {},
   "outputs": [
    {
     "data": {
      "image/png": "[encoded data removed]",
      "text/plain": [
       "<Figure size 432x144 with 1 Axes>"
      ]
     },
     "metadata": {},
     "output_type": "display_data"
    }
   ],
   "source": [
    "fig_path = os.path.join(output_dir, 'age_distrib.pdf')\n",
    "year_of_publication_distribution(df, fig_path)"
   ]
  },
  {
   "cell_type": "markdown",
   "metadata": {},
   "source": [
    "## Repository stats"
   ]
  },
  {
   "cell_type": "code",
   "execution_count": 12,
   "metadata": {},
   "outputs": [
    {
     "name": "stderr",
     "output_type": "stream",
     "text": [
      "100%|██████████| 808984/808984 [01:15<00:00, 10758.43it/s]\n",
      "100%|██████████| 808984/808984 [00:00<00:00, 997678.00it/s]\n"
     ]
    },
    {
     "name": "stdout",
     "output_type": "stream",
     "text": [
      "Number of repositories: 728\n",
      "\n",
      "Affiliations per paper:\n",
      "OrderedDict([('nobs', 808984),\n",
      "             ('minmax', (1, 31)),\n",
      "             ('mean', 1.157685442480939),\n",
      "             ('variance', 0.2325189237968152),\n",
      "             ('skewness', 6.6125773592955),\n",
      "             ('kurtosis', 110.98922301646468)])\n",
      "\n",
      "Papers per affiliation:\n",
      "OrderedDict([('nobs', 728),\n",
      "             ('minmax', (1, 97594)),\n",
      "             ('mean', 1286.4684065934066),\n",
      "             ('variance', 20328198.359385632),\n",
      "             ('skewness', 14.352248489149522),\n",
      "             ('kurtosis', 287.12045582263056)])\n",
      "\n",
      "Number of repositories with less than 100 publications: 315\n",
      "Number of repositories with less than 50 publications: 255\n",
      "\n",
      "10 largest repositories\n"
     ]
    },
    {
     "data": {
      "text/html": [
       "<div>\n",
       "<style scoped>\n",
       "    .dataframe tbody tr th:only-of-type {\n",
       "        vertical-align: middle;\n",
       "    }\n",
       "\n",
       "    .dataframe tbody tr th {\n",
       "        vertical-align: top;\n",
       "    }\n",
       "\n",
       "    .dataframe thead th {\n",
       "        text-align: right;\n",
       "    }\n",
       "</style>\n",
       "<table border=\"1\" class=\"dataframe\">\n",
       "  <thead>\n",
       "    <tr style=\"text-align: right;\">\n",
       "      <th></th>\n",
       "      <th>Papers</th>\n",
       "      <th>Name</th>\n",
       "      <th>ID</th>\n",
       "    </tr>\n",
       "  </thead>\n",
       "  <tbody>\n",
       "    <tr>\n",
       "      <th>0</th>\n",
       "      <td>97594</td>\n",
       "      <td>arXiv.org e-Print Archive</td>\n",
       "      <td>144</td>\n",
       "    </tr>\n",
       "    <tr>\n",
       "      <th>1</th>\n",
       "      <td>24019</td>\n",
       "      <td>White Rose Research Online</td>\n",
       "      <td>140</td>\n",
       "    </tr>\n",
       "    <tr>\n",
       "      <th>2</th>\n",
       "      <td>20617</td>\n",
       "      <td>ZORA</td>\n",
       "      <td>345</td>\n",
       "    </tr>\n",
       "    <tr>\n",
       "      <th>3</th>\n",
       "      <td>20304</td>\n",
       "      <td>Utrecht University Repository</td>\n",
       "      <td>988</td>\n",
       "    </tr>\n",
       "    <tr>\n",
       "      <th>4</th>\n",
       "      <td>19267</td>\n",
       "      <td>Enlighten</td>\n",
       "      <td>42</td>\n",
       "    </tr>\n",
       "    <tr>\n",
       "      <th>5</th>\n",
       "      <td>17837</td>\n",
       "      <td>Radboud Repository</td>\n",
       "      <td>602</td>\n",
       "    </tr>\n",
       "    <tr>\n",
       "      <th>6</th>\n",
       "      <td>17100</td>\n",
       "      <td>ZENODO</td>\n",
       "      <td>324</td>\n",
       "    </tr>\n",
       "    <tr>\n",
       "      <th>7</th>\n",
       "      <td>14795</td>\n",
       "      <td>Archivio della ricerca- Università di Roma La Sapienza</td>\n",
       "      <td>1084</td>\n",
       "    </tr>\n",
       "    <tr>\n",
       "      <th>8</th>\n",
       "      <td>14261</td>\n",
       "      <td>Online Research @ Cardiff</td>\n",
       "      <td>83</td>\n",
       "    </tr>\n",
       "    <tr>\n",
       "      <th>9</th>\n",
       "      <td>14077</td>\n",
       "      <td>Archivio istituzionale della ricerca - Università di Padova</td>\n",
       "      <td>1102</td>\n",
       "    </tr>\n",
       "  </tbody>\n",
       "</table>\n",
       "</div>"
      ],
      "text/plain": [
       "   Papers                                                         Name    ID\n",
       "0   97594                                    arXiv.org e-Print Archive   144\n",
       "1   24019                                   White Rose Research Online   140\n",
       "2   20617                                                         ZORA   345\n",
       "3   20304                                Utrecht University Repository   988\n",
       "4   19267                                                    Enlighten    42\n",
       "5   17837                                           Radboud Repository   602\n",
       "6   17100                                                       ZENODO   324\n",
       "7   14795       Archivio della ricerca- Università di Roma La Sapienza  1084\n",
       "8   14261                                    Online Research @ Cardiff    83\n",
       "9   14077  Archivio istituzionale della ricerca - Università di Padova  1102"
      ]
     },
     "execution_count": 12,
     "metadata": {},
     "output_type": "execute_result"
    }
   ],
   "source": [
    "repository_stats(df)"
   ]
  },
  {
   "cell_type": "markdown",
   "metadata": {},
   "source": [
    "## Subject distribution"
   ]
  },
  {
   "cell_type": "code",
   "execution_count": 13,
   "metadata": {},
   "outputs": [
    {
     "name": "stdout",
     "output_type": "stream",
     "text": [
      "664277 out of 808984 papers (82.1125016069539%) have subject information\n",
      "86731 documents were tagged with multiple subjects (10.72097841242843%)\n",
      "\n",
      "Subject distribution:\n"
     ]
    },
    {
     "data": {
      "image/png": "[encoded data removed]",
      "text/plain": [
       "<Figure size 540x468 with 1 Axes>"
      ]
     },
     "metadata": {},
     "output_type": "display_data"
    },
    {
     "name": "stdout",
     "output_type": "stream",
     "text": [
      "\n",
      "Number of papers per subject count:\n"
     ]
    },
    {
     "data": {
      "text/html": [
       "<div>\n",
       "<style scoped>\n",
       "    .dataframe tbody tr th:only-of-type {\n",
       "        vertical-align: middle;\n",
       "    }\n",
       "\n",
       "    .dataframe tbody tr th {\n",
       "        vertical-align: top;\n",
       "    }\n",
       "\n",
       "    .dataframe thead th {\n",
       "        text-align: right;\n",
       "    }\n",
       "</style>\n",
       "<table border=\"1\" class=\"dataframe\">\n",
       "  <thead>\n",
       "    <tr style=\"text-align: right;\">\n",
       "      <th></th>\n",
       "      <th>subject_count</th>\n",
       "      <th>paper_count</th>\n",
       "      <th>% of multi-subj. papers</th>\n",
       "    </tr>\n",
       "  </thead>\n",
       "  <tbody>\n",
       "    <tr>\n",
       "      <th>0</th>\n",
       "      <td>2</td>\n",
       "      <td>65419</td>\n",
       "      <td>0.75</td>\n",
       "    </tr>\n",
       "    <tr>\n",
       "      <th>1</th>\n",
       "      <td>3</td>\n",
       "      <td>15390</td>\n",
       "      <td>0.18</td>\n",
       "    </tr>\n",
       "    <tr>\n",
       "      <th>2</th>\n",
       "      <td>4</td>\n",
       "      <td>4224</td>\n",
       "      <td>0.05</td>\n",
       "    </tr>\n",
       "    <tr>\n",
       "      <th>3</th>\n",
       "      <td>5</td>\n",
       "      <td>1236</td>\n",
       "      <td>0.01</td>\n",
       "    </tr>\n",
       "    <tr>\n",
       "      <th>4</th>\n",
       "      <td>6</td>\n",
       "      <td>347</td>\n",
       "      <td>0.00</td>\n",
       "    </tr>\n",
       "    <tr>\n",
       "      <th>5</th>\n",
       "      <td>7</td>\n",
       "      <td>80</td>\n",
       "      <td>0.00</td>\n",
       "    </tr>\n",
       "    <tr>\n",
       "      <th>6</th>\n",
       "      <td>8</td>\n",
       "      <td>25</td>\n",
       "      <td>0.00</td>\n",
       "    </tr>\n",
       "    <tr>\n",
       "      <th>7</th>\n",
       "      <td>9</td>\n",
       "      <td>8</td>\n",
       "      <td>0.00</td>\n",
       "    </tr>\n",
       "    <tr>\n",
       "      <th>8</th>\n",
       "      <td>10</td>\n",
       "      <td>2</td>\n",
       "      <td>0.00</td>\n",
       "    </tr>\n",
       "  </tbody>\n",
       "</table>\n",
       "</div>"
      ],
      "text/plain": [
       "   subject_count  paper_count  % of multi-subj. papers\n",
       "0              2        65419                     0.75\n",
       "1              3        15390                     0.18\n",
       "2              4         4224                     0.05\n",
       "3              5         1236                     0.01\n",
       "4              6          347                     0.00\n",
       "5              7           80                     0.00\n",
       "6              8           25                     0.00\n",
       "7              9            8                     0.00\n",
       "8             10            2                     0.00"
      ]
     },
     "execution_count": 13,
     "metadata": {},
     "output_type": "execute_result"
    }
   ],
   "source": [
    "fig_path = os.path.join(output_dir, 'subject_distrib.pdf')\n",
    "subject_distribution(df, fig_path)"
   ]
  },
  {
   "cell_type": "markdown",
   "metadata": {},
   "source": [
    "## REF panel distribution"
   ]
  },
  {
   "cell_type": "code",
   "execution_count": 14,
   "metadata": {},
   "outputs": [
    {
     "data": {
      "image/png": "[encoded data removed]",
      "text/plain": [
       "<Figure size 288x144 with 1 Axes>"
      ]
     },
     "metadata": {},
     "output_type": "display_data"
    }
   ],
   "source": [
    "fig_path = os.path.join(output_dir, 'ref_panels_distrib.pdf')\n",
    "ref_uoa_distribution(df, fig_path)"
   ]
  },
  {
   "cell_type": "markdown",
   "metadata": {},
   "source": [
    "## Crossref acceptance date statistics"
   ]
  },
  {
   "cell_type": "code",
   "execution_count": 15,
   "metadata": {},
   "outputs": [
    {
     "name": "stderr",
     "output_type": "stream",
     "text": [
      "100%|██████████| 808984/808984 [00:57<00:00, 14188.34it/s]\n"
     ]
    },
    {
     "name": "stdout",
     "output_type": "stream",
     "text": [
      "Non-empty date of acceptance: 975\n",
      "Date of acceptace == date of publication: 684\n",
      "Date of acceptace > date of publication: 272\n"
     ]
    },
    {
     "data": {
      "text/html": [
       "<div>\n",
       "<style scoped>\n",
       "    .dataframe tbody tr th:only-of-type {\n",
       "        vertical-align: middle;\n",
       "    }\n",
       "\n",
       "    .dataframe tbody tr th {\n",
       "        vertical-align: top;\n",
       "    }\n",
       "\n",
       "    .dataframe thead th {\n",
       "        text-align: right;\n",
       "    }\n",
       "</style>\n",
       "<table border=\"1\" class=\"dataframe\">\n",
       "  <thead>\n",
       "    <tr style=\"text-align: right;\">\n",
       "      <th></th>\n",
       "      <th>accepted</th>\n",
       "      <th>published</th>\n",
       "    </tr>\n",
       "  </thead>\n",
       "  <tbody>\n",
       "    <tr>\n",
       "      <th>0</th>\n",
       "      <td>NaT</td>\n",
       "      <td>2014-08-13</td>\n",
       "    </tr>\n",
       "    <tr>\n",
       "      <th>1</th>\n",
       "      <td>NaT</td>\n",
       "      <td>2017-08-08</td>\n",
       "    </tr>\n",
       "    <tr>\n",
       "      <th>2</th>\n",
       "      <td>NaT</td>\n",
       "      <td>2017-03-01</td>\n",
       "    </tr>\n",
       "    <tr>\n",
       "      <th>3</th>\n",
       "      <td>NaT</td>\n",
       "      <td>2014-04-27</td>\n",
       "    </tr>\n",
       "    <tr>\n",
       "      <th>4</th>\n",
       "      <td>NaT</td>\n",
       "      <td>2013-10-25</td>\n",
       "    </tr>\n",
       "  </tbody>\n",
       "</table>\n",
       "</div>"
      ],
      "text/plain": [
       "  accepted  published\n",
       "0      NaT 2014-08-13\n",
       "1      NaT 2017-08-08\n",
       "2      NaT 2017-03-01\n",
       "3      NaT 2014-04-27\n",
       "4      NaT 2013-10-25"
      ]
     },
     "execution_count": 15,
     "metadata": {},
     "output_type": "execute_result"
    }
   ],
   "source": [
    "crossref_acceptance_date_stats(df).head()"
   ]
  },
  {
   "cell_type": "markdown",
   "metadata": {},
   "source": [
    "## ISSN statistics"
   ]
  },
  {
   "cell_type": "code",
   "execution_count": 16,
   "metadata": {},
   "outputs": [
    {
     "name": "stdout",
     "output_type": "stream",
     "text": [
      "Publications without ISSN: 55014\n",
      "UK publications without ISSN: 12463\n"
     ]
    }
   ],
   "source": [
    "issn_stats(df)"
   ]
  },
  {
   "cell_type": "markdown",
   "metadata": {},
   "source": [
    "## Matching method analysis"
   ]
  },
  {
   "cell_type": "code",
   "execution_count": 17,
   "metadata": {
    "scrolled": false
   },
   "outputs": [
    {
     "name": "stderr",
     "output_type": "stream",
     "text": [
      "100%|██████████| 808984/808984 [00:52<00:00, 15353.98it/s]"
     ]
    },
    {
     "name": "stdout",
     "output_type": "stream",
     "text": [
      "There are 985175 links between CrossRef and CORE\n",
      "354897 CORE articles didn't have a DOI (36.02%)\n",
      "Of the remaining 630278 CORE articles:\n",
      "595202 had a matching DOI (94.43%)\n",
      "35076 had a different DOI (5.57%)\n",
      "5264 non-matching DOIs were matched as substring (15.01%)\n",
      "Same + substring DOIs: 600466 (95.27%)\n"
     ]
    },
    {
     "name": "stderr",
     "output_type": "stream",
     "text": [
      "\n"
     ]
    }
   ],
   "source": [
    "core_crossref_matching_accuracy(df)"
   ]
  }
 ],
 "metadata": {
  "kernelspec": {
   "display_name": "ref_compliance",
   "language": "python",
   "name": "ref_compliance"
  },
  "language_info": {
   "codemirror_mode": {
    "name": "ipython",
    "version": 3
   },
   "file_extension": ".py",
   "mimetype": "text/x-python",
   "name": "python",
   "nbconvert_exporter": "python",
   "pygments_lexer": "ipython3",
   "version": "3.7.2"
  }
 },
 "nbformat": 4,
 "nbformat_minor": 2
}
